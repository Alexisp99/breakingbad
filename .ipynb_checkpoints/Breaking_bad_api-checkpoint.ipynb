{
 "cells": [
  {
   "cell_type": "code",
   "execution_count": 108,
   "id": "ada45702",
   "metadata": {},
   "outputs": [],
   "source": [
    "import requests\n",
    "import pandas as pd\n",
    "from io import StringIO"
   ]
  },
  {
   "cell_type": "code",
   "execution_count": 86,
   "id": "8d8124f0",
   "metadata": {},
   "outputs": [],
   "source": [
    "def breaking_bad(number):\n",
    "    GET = \"https://api.breakingbadquotes.xyz\"\n",
    "    response = requests.get(f\"{GET}/v1/quotes/{number}\")\n",
    "    return response.json(), response.text, response.content"
   ]
  },
  {
   "cell_type": "code",
   "execution_count": 87,
   "id": "387e70ce",
   "metadata": {},
   "outputs": [],
   "source": [
    "a,b,c= breaking_bad(3)"
   ]
  },
  {
   "cell_type": "code",
   "execution_count": 100,
   "id": "c4eeba65",
   "metadata": {},
   "outputs": [
    {
     "name": "stdout",
     "output_type": "stream",
     "text": [
      "<class 'list'>\n"
     ]
    },
    {
     "data": {
      "text/plain": [
       "[{'quote': \"I'm a criminal, yo.\", 'author': 'Jesse Pinkman'},\n",
       " {'quote': 'Shit!', 'author': 'Walter White'},\n",
       " {'quote': \"They're minerals, Marie! Jesus!\", 'author': 'Hank Schrader'}]"
      ]
     },
     "execution_count": 100,
     "metadata": {},
     "output_type": "execute_result"
    }
   ],
   "source": [
    "print(type(a))\n",
    "a"
   ]
  },
  {
   "cell_type": "code",
   "execution_count": 107,
   "id": "8ce8adf2",
   "metadata": {},
   "outputs": [
    {
     "data": {
      "text/html": [
       "<div>\n",
       "<style scoped>\n",
       "    .dataframe tbody tr th:only-of-type {\n",
       "        vertical-align: middle;\n",
       "    }\n",
       "\n",
       "    .dataframe tbody tr th {\n",
       "        vertical-align: top;\n",
       "    }\n",
       "\n",
       "    .dataframe thead th {\n",
       "        text-align: right;\n",
       "    }\n",
       "</style>\n",
       "<table border=\"1\" class=\"dataframe\">\n",
       "  <thead>\n",
       "    <tr style=\"text-align: right;\">\n",
       "      <th></th>\n",
       "      <th>author</th>\n",
       "      <th>quote</th>\n",
       "    </tr>\n",
       "  </thead>\n",
       "  <tbody>\n",
       "    <tr>\n",
       "      <th>0</th>\n",
       "      <td>Jesse Pinkman</td>\n",
       "      <td>I'm a criminal, yo.</td>\n",
       "    </tr>\n",
       "    <tr>\n",
       "      <th>1</th>\n",
       "      <td>Walter White</td>\n",
       "      <td>Shit!</td>\n",
       "    </tr>\n",
       "    <tr>\n",
       "      <th>2</th>\n",
       "      <td>Hank Schrader</td>\n",
       "      <td>They're minerals, Marie! Jesus!</td>\n",
       "    </tr>\n",
       "  </tbody>\n",
       "</table>\n",
       "</div>"
      ],
      "text/plain": [
       "          author                            quote\n",
       "0  Jesse Pinkman              I'm a criminal, yo.\n",
       "1   Walter White                            Shit!\n",
       "2  Hank Schrader  They're minerals, Marie! Jesus!"
      ]
     },
     "execution_count": 107,
     "metadata": {},
     "output_type": "execute_result"
    }
   ],
   "source": [
    "a =pd.DataFrame(a)\n",
    "a.set_index(\"author\").reset_index()"
   ]
  },
  {
   "cell_type": "code",
   "execution_count": 111,
   "id": "d22db7a7",
   "metadata": {},
   "outputs": [
    {
     "name": "stdout",
     "output_type": "stream",
     "text": [
      "<class 'str'>\n"
     ]
    },
    {
     "data": {
      "text/plain": [
       "'[{\"quote\":\"I\\'m a criminal, yo.\",\"author\":\"Jesse Pinkman\"},{\"quote\":\"Shit!\",\"author\":\"Walter White\"},{\"quote\":\"They\\'re minerals, Marie! Jesus!\",\"author\":\"Hank Schrader\"}]'"
      ]
     },
     "execution_count": 111,
     "metadata": {},
     "output_type": "execute_result"
    }
   ],
   "source": [
    "print(type(b))\n",
    "b\n"
   ]
  },
  {
   "cell_type": "code",
   "execution_count": 103,
   "id": "71cc5d32",
   "metadata": {},
   "outputs": [
    {
     "name": "stdout",
     "output_type": "stream",
     "text": [
      "<class 'bytes'>\n"
     ]
    },
    {
     "data": {
      "text/plain": [
       "b'[{\"quote\":\"I\\'m a criminal, yo.\",\"author\":\"Jesse Pinkman\"},{\"quote\":\"Shit!\",\"author\":\"Walter White\"},{\"quote\":\"They\\'re minerals, Marie! Jesus!\",\"author\":\"Hank Schrader\"}]'"
      ]
     },
     "execution_count": 103,
     "metadata": {},
     "output_type": "execute_result"
    }
   ],
   "source": [
    "print(type(c))\n",
    "c"
   ]
  }
 ],
 "metadata": {
  "kernelspec": {
   "display_name": "Python 3 (ipykernel)",
   "language": "python",
   "name": "python3"
  },
  "language_info": {
   "codemirror_mode": {
    "name": "ipython",
    "version": 3
   },
   "file_extension": ".py",
   "mimetype": "text/x-python",
   "name": "python",
   "nbconvert_exporter": "python",
   "pygments_lexer": "ipython3",
   "version": "3.8.12"
  },
  "toc": {
   "base_numbering": 1,
   "nav_menu": {},
   "number_sections": true,
   "sideBar": true,
   "skip_h1_title": false,
   "title_cell": "Table of Contents",
   "title_sidebar": "Contents",
   "toc_cell": false,
   "toc_position": {},
   "toc_section_display": true,
   "toc_window_display": false
  }
 },
 "nbformat": 4,
 "nbformat_minor": 5
}
